{
 "cells": [
  {
   "cell_type": "markdown",
   "metadata": {},
   "source": [
    "<p style=\"text-align:center\">\n",
    "    <a href=\"https://skills.network\" target=\"_blank\">\n",
    "    <img src=\"https://cf-courses-data.s3.us.cloud-object-storage.appdomain.cloud/assets/logos/SN_web_lightmode.png\" width=\"200\" alt=\"Skills Network Logo\"  />\n",
    "    </a>\n",
    "</p>\n"
   ]
  },
  {
   "cell_type": "markdown",
   "metadata": {},
   "source": [
    "# **Data Normalization Techniques**\n"
   ]
  },
  {
   "cell_type": "markdown",
   "metadata": {},
   "source": [
    "Estimated time needed: **30** minutes\n"
   ]
  },
  {
   "cell_type": "markdown",
   "metadata": {},
   "source": [
    "In this lab, you will focus on data normalization. This includes identifying compensation-related columns, applying normalization techniques, and visualizing the data distributions.\n"
   ]
  },
  {
   "cell_type": "markdown",
   "metadata": {},
   "source": [
    "## Objectives\n"
   ]
  },
  {
   "cell_type": "markdown",
   "metadata": {},
   "source": [
    "In this lab, you will perform the following:\n"
   ]
  },
  {
   "cell_type": "markdown",
   "metadata": {},
   "source": [
    "- Identify duplicate rows and remove them.\n",
    "\n",
    "- Check and handle missing values in key columns.\n",
    "\n",
    "- Identify and normalize compensation-related columns.\n",
    "\n",
    "- Visualize the effect of normalization techniques on data distributions.\n"
   ]
  },
  {
   "cell_type": "markdown",
   "metadata": {},
   "source": [
    "-----\n"
   ]
  },
  {
   "cell_type": "markdown",
   "metadata": {},
   "source": [
    "## Hands on Lab\n"
   ]
  },
  {
   "cell_type": "markdown",
   "metadata": {},
   "source": [
    "#### Step 1: Install and Import Libraries\n"
   ]
  },
  {
   "cell_type": "code",
   "metadata": {
    "ExecuteTime": {
     "end_time": "2024-12-11T21:10:31.749756400Z",
     "start_time": "2024-12-11T21:10:31.710677200Z"
    }
   },
   "outputs": [],
   "source": [
    "# !pip install pandas"
   ],
   "execution_count": 13
  },
  {
   "cell_type": "code",
   "metadata": {
    "ExecuteTime": {
     "end_time": "2024-12-11T21:10:31.767627400Z",
     "start_time": "2024-12-11T21:10:31.750781700Z"
    }
   },
   "outputs": [],
   "source": [
    "# !pip install matplotlib"
   ],
   "execution_count": 14
  },
  {
   "cell_type": "code",
   "metadata": {
    "ExecuteTime": {
     "end_time": "2024-12-11T21:10:31.782185100Z",
     "start_time": "2024-12-11T21:10:31.769622Z"
    }
   },
   "outputs": [],
   "source": [
    "import pandas as pd\n",
    "import matplotlib.pyplot as plt"
   ],
   "execution_count": 15
  },
  {
   "cell_type": "markdown",
   "metadata": {},
   "source": [
    "### Step 2: Load the Dataset into a DataFrame\n"
   ]
  },
  {
   "cell_type": "markdown",
   "metadata": {},
   "source": [
    "We use the <code>pandas.read_csv()</code> function for reading CSV files. However, in this version of the lab, which operates on JupyterLite, the dataset needs to be downloaded to the interface using the provided code below.\n"
   ]
  },
  {
   "cell_type": "markdown",
   "metadata": {},
   "source": [
    "The functions below will download the dataset into your browser:\n"
   ]
  },
  {
   "cell_type": "code",
   "metadata": {
    "ExecuteTime": {
     "end_time": "2024-12-11T21:10:54.414607300Z",
     "start_time": "2024-12-11T21:10:31.773238500Z"
    }
   },
   "outputs": [
    {
     "name": "stdout",
     "output_type": "stream",
     "text": [
      "   ResponseId                      MainBranch                 Age  \\\n",
      "0           1  I am a developer by profession  Under 18 years old   \n",
      "1           2  I am a developer by profession     35-44 years old   \n",
      "2           3  I am a developer by profession     45-54 years old   \n",
      "3           4           I am learning to code     18-24 years old   \n",
      "4           5  I am a developer by profession     18-24 years old   \n",
      "\n",
      "            Employment RemoteWork   Check  \\\n",
      "0  Employed, full-time     Remote  Apples   \n",
      "1  Employed, full-time     Remote  Apples   \n",
      "2  Employed, full-time     Remote  Apples   \n",
      "3   Student, full-time        NaN  Apples   \n",
      "4   Student, full-time        NaN  Apples   \n",
      "\n",
      "                                    CodingActivities  \\\n",
      "0                                              Hobby   \n",
      "1  Hobby;Contribute to open-source projects;Other...   \n",
      "2  Hobby;Contribute to open-source projects;Other...   \n",
      "3                                                NaN   \n",
      "4                                                NaN   \n",
      "\n",
      "                                             EdLevel  \\\n",
      "0                          Primary/elementary school   \n",
      "1       Bachelor’s degree (B.A., B.S., B.Eng., etc.)   \n",
      "2    Master’s degree (M.A., M.S., M.Eng., MBA, etc.)   \n",
      "3  Some college/university study without earning ...   \n",
      "4  Secondary school (e.g. American high school, G...   \n",
      "\n",
      "                                           LearnCode  \\\n",
      "0                             Books / Physical media   \n",
      "1  Books / Physical media;Colleague;On the job tr...   \n",
      "2  Books / Physical media;Colleague;On the job tr...   \n",
      "3  Other online resources (e.g., videos, blogs, f...   \n",
      "4  Other online resources (e.g., videos, blogs, f...   \n",
      "\n",
      "                                     LearnCodeOnline  ... JobSatPoints_6  \\\n",
      "0                                                NaN  ...            NaN   \n",
      "1  Technical documentation;Blogs;Books;Written Tu...  ...            0.0   \n",
      "2  Technical documentation;Blogs;Books;Written Tu...  ...            NaN   \n",
      "3  Stack Overflow;How-to videos;Interactive tutorial  ...            NaN   \n",
      "4  Technical documentation;Blogs;Written Tutorial...  ...            NaN   \n",
      "\n",
      "  JobSatPoints_7 JobSatPoints_8 JobSatPoints_9 JobSatPoints_10  \\\n",
      "0            NaN            NaN            NaN             NaN   \n",
      "1            0.0            0.0            0.0             0.0   \n",
      "2            NaN            NaN            NaN             NaN   \n",
      "3            NaN            NaN            NaN             NaN   \n",
      "4            NaN            NaN            NaN             NaN   \n",
      "\n",
      "  JobSatPoints_11           SurveyLength SurveyEase ConvertedCompYearly JobSat  \n",
      "0             NaN                    NaN        NaN                 NaN    NaN  \n",
      "1             0.0                    NaN        NaN                 NaN    NaN  \n",
      "2             NaN  Appropriate in length       Easy                 NaN    NaN  \n",
      "3             NaN               Too long       Easy                 NaN    NaN  \n",
      "4             NaN              Too short       Easy                 NaN    NaN  \n",
      "\n",
      "[5 rows x 114 columns]\n"
     ]
    }
   ],
   "source": [
    "file_path = \"https://cf-courses-data.s3.us.cloud-object-storage.appdomain.cloud/n01PQ9pSmiRX6520flujwQ/survey-data.csv\"\n",
    "\n",
    "df = pd.read_csv(file_path)\n",
    "\n",
    "# Display the first few rows to check if data is loaded correctly\n",
    "print(df.head())\n"
   ],
   "execution_count": 16
  },
  {
   "cell_type": "code",
   "metadata": {
    "ExecuteTime": {
     "end_time": "2024-12-11T21:10:54.414607300Z",
     "start_time": "2024-12-11T21:10:54.411081200Z"
    }
   },
   "outputs": [],
   "source": [
    "#df = pd.read_csv(\"https://cf-courses-data.s3.us.cloud-object-storage.appdomain.cloud/n01PQ9pSmiRX6520flujwQ/survey-data.csv\")"
   ],
   "execution_count": 17
  },
  {
   "cell_type": "markdown",
   "metadata": {},
   "source": [
    "### Section 1: Handling Duplicates\n",
    "##### Task 1: Identify and remove duplicate rows.\n"
   ]
  },
  {
   "cell_type": "code",
   "metadata": {
    "ExecuteTime": {
     "end_time": "2024-12-11T21:10:55.002753Z",
     "start_time": "2024-12-11T21:10:54.414607300Z"
    }
   },
   "outputs": [],
   "source": [
    "## Write your code here\n",
    "df = df.drop_duplicates()"
   ],
   "execution_count": 18
  },
  {
   "cell_type": "markdown",
   "metadata": {},
   "source": [
    "### Section 2: Handling Missing Values\n",
    "##### Task 2: Identify missing values in `CodingActivities`.\n"
   ]
  },
  {
   "cell_type": "code",
   "metadata": {
    "ExecuteTime": {
     "end_time": "2024-12-11T21:10:55.337316700Z",
     "start_time": "2024-12-11T21:10:55.004749300Z"
    }
   },
   "outputs": [
    {
     "data": {
      "text/plain": "RemoteWork             True\nCodingActivities       True\nEdLevel                True\nLearnCode              True\nLearnCodeOnline        True\n                       ... \nJobSatPoints_11        True\nSurveyLength           True\nSurveyEase             True\nConvertedCompYearly    True\nJobSat                 True\nLength: 109, dtype: object"
     },
     "execution_count": 19,
     "metadata": {},
     "output_type": "execute_result"
    }
   ],
   "source": [
    "## Write your code here\n",
    "df.isna().any(axis=0).where(df.isna().any(axis=0)==True).dropna()"
   ],
   "execution_count": 19
  },
  {
   "cell_type": "markdown",
   "metadata": {},
   "source": [
    "##### Task 3: Impute missing values in CodingActivities with forward-fill.\n"
   ]
  },
  {
   "cell_type": "code",
   "metadata": {
    "ExecuteTime": {
     "end_time": "2024-12-11T21:10:57.383838500Z",
     "start_time": "2024-12-11T21:10:55.333300800Z"
    }
   },
   "outputs": [],
   "source": [
    "## Write your code here\n",
    "df = df.ffill()"
   ],
   "execution_count": 20
  },
  {
   "cell_type": "markdown",
   "metadata": {},
   "source": [
    "### Section 3: Normalizing Compensation Data\n",
    "##### Task 4: Identify compensation-related columns, such as ConvertedCompYearly.\n",
    "Normalization is commonly applied to compensation data to bring values within a comparable range. Here, you’ll identify ConvertedCompYearly or similar columns, which contain compensation information. This column will be used in the subsequent tasks for normalization.\n"
   ]
  },
  {
   "cell_type": "code",
   "metadata": {
    "ExecuteTime": {
     "end_time": "2024-12-11T21:10:57.399027900Z",
     "start_time": "2024-12-11T21:10:57.384836100Z"
    }
   },
   "outputs": [
    {
     "name": "stdout",
     "output_type": "stream",
     "text": [
      "['CompTotal', 'AIComplex', 'ConvertedCompYearly']\n"
     ]
    }
   ],
   "source": [
    "## Write your code here\n",
    "cols = df.columns.tolist()\n",
    "comps = []\n",
    "for col in cols:\n",
    "    if 'Comp' in col:\n",
    "        comps.append(col)\n",
    "\n",
    "print(comps)\n",
    "comps.remove('AIComplex')\n",
    "data = df[comps].dropna()\n"
   ],
   "execution_count": 21
  },
  {
   "cell_type": "code",
   "outputs": [
    {
     "data": {
      "text/plain": "       CompTotal  ConvertedCompYearly\n72     2040000.0               7322.0\n73     2040000.0               7322.0\n74     2040000.0               7322.0\n75     2040000.0               7322.0\n76     2040000.0               7322.0\n...          ...                  ...\n65432    55000.0             222834.0\n65433    55000.0             222834.0\n65434    55000.0             222834.0\n65435    55000.0             222834.0\n65436    55000.0             222834.0\n\n[65365 rows x 2 columns]",
      "text/html": "<div>\n<style scoped>\n    .dataframe tbody tr th:only-of-type {\n        vertical-align: middle;\n    }\n\n    .dataframe tbody tr th {\n        vertical-align: top;\n    }\n\n    .dataframe thead th {\n        text-align: right;\n    }\n</style>\n<table border=\"1\" class=\"dataframe\">\n  <thead>\n    <tr style=\"text-align: right;\">\n      <th></th>\n      <th>CompTotal</th>\n      <th>ConvertedCompYearly</th>\n    </tr>\n  </thead>\n  <tbody>\n    <tr>\n      <th>72</th>\n      <td>2040000.0</td>\n      <td>7322.0</td>\n    </tr>\n    <tr>\n      <th>73</th>\n      <td>2040000.0</td>\n      <td>7322.0</td>\n    </tr>\n    <tr>\n      <th>74</th>\n      <td>2040000.0</td>\n      <td>7322.0</td>\n    </tr>\n    <tr>\n      <th>75</th>\n      <td>2040000.0</td>\n      <td>7322.0</td>\n    </tr>\n    <tr>\n      <th>76</th>\n      <td>2040000.0</td>\n      <td>7322.0</td>\n    </tr>\n    <tr>\n      <th>...</th>\n      <td>...</td>\n      <td>...</td>\n    </tr>\n    <tr>\n      <th>65432</th>\n      <td>55000.0</td>\n      <td>222834.0</td>\n    </tr>\n    <tr>\n      <th>65433</th>\n      <td>55000.0</td>\n      <td>222834.0</td>\n    </tr>\n    <tr>\n      <th>65434</th>\n      <td>55000.0</td>\n      <td>222834.0</td>\n    </tr>\n    <tr>\n      <th>65435</th>\n      <td>55000.0</td>\n      <td>222834.0</td>\n    </tr>\n    <tr>\n      <th>65436</th>\n      <td>55000.0</td>\n      <td>222834.0</td>\n    </tr>\n  </tbody>\n</table>\n<p>65365 rows × 2 columns</p>\n</div>"
     },
     "execution_count": 22,
     "metadata": {},
     "output_type": "execute_result"
    }
   ],
   "source": [
    "data"
   ],
   "metadata": {
    "collapsed": false,
    "ExecuteTime": {
     "end_time": "2024-12-11T21:10:57.406333200Z",
     "start_time": "2024-12-11T21:10:57.399027900Z"
    }
   },
   "execution_count": 22
  },
  {
   "cell_type": "markdown",
   "metadata": {},
   "source": [
    "##### Task 5: Normalize ConvertedCompYearly using Min-Max Scaling.\n",
    "Min-Max Scaling brings all values in a column to a 0-1 range, making it useful for comparing data across different scales. Here, you will apply Min-Max normalization to the ConvertedCompYearly column, creating a new column ConvertedCompYearly_MinMax with normalized values.\n"
   ]
  },
  {
   "cell_type": "code",
   "metadata": {
    "ExecuteTime": {
     "end_time": "2024-12-11T21:14:05.883869700Z",
     "start_time": "2024-12-11T21:13:12.135182400Z"
    }
   },
   "outputs": [
    {
     "data": {
      "text/plain": "           CompTotal  ConvertedCompYearly\n72     2.040000e-144             0.000450\n73     2.040000e-144             0.000450\n74     2.040000e-144             0.000450\n75     2.040000e-144             0.000450\n76     2.040000e-144             0.000450\n...              ...                  ...\n65432  5.500000e-146             0.013707\n65433  5.500000e-146             0.013707\n65434  5.500000e-146             0.013707\n65435  5.500000e-146             0.013707\n65436  5.500000e-146             0.013707\n\n[65365 rows x 2 columns]",
      "text/html": "<div>\n<style scoped>\n    .dataframe tbody tr th:only-of-type {\n        vertical-align: middle;\n    }\n\n    .dataframe tbody tr th {\n        vertical-align: top;\n    }\n\n    .dataframe thead th {\n        text-align: right;\n    }\n</style>\n<table border=\"1\" class=\"dataframe\">\n  <thead>\n    <tr style=\"text-align: right;\">\n      <th></th>\n      <th>CompTotal</th>\n      <th>ConvertedCompYearly</th>\n    </tr>\n  </thead>\n  <tbody>\n    <tr>\n      <th>72</th>\n      <td>2.040000e-144</td>\n      <td>0.000450</td>\n    </tr>\n    <tr>\n      <th>73</th>\n      <td>2.040000e-144</td>\n      <td>0.000450</td>\n    </tr>\n    <tr>\n      <th>74</th>\n      <td>2.040000e-144</td>\n      <td>0.000450</td>\n    </tr>\n    <tr>\n      <th>75</th>\n      <td>2.040000e-144</td>\n      <td>0.000450</td>\n    </tr>\n    <tr>\n      <th>76</th>\n      <td>2.040000e-144</td>\n      <td>0.000450</td>\n    </tr>\n    <tr>\n      <th>...</th>\n      <td>...</td>\n      <td>...</td>\n    </tr>\n    <tr>\n      <th>65432</th>\n      <td>5.500000e-146</td>\n      <td>0.013707</td>\n    </tr>\n    <tr>\n      <th>65433</th>\n      <td>5.500000e-146</td>\n      <td>0.013707</td>\n    </tr>\n    <tr>\n      <th>65434</th>\n      <td>5.500000e-146</td>\n      <td>0.013707</td>\n    </tr>\n    <tr>\n      <th>65435</th>\n      <td>5.500000e-146</td>\n      <td>0.013707</td>\n    </tr>\n    <tr>\n      <th>65436</th>\n      <td>5.500000e-146</td>\n      <td>0.013707</td>\n    </tr>\n  </tbody>\n</table>\n<p>65365 rows × 2 columns</p>\n</div>"
     },
     "execution_count": 27,
     "metadata": {},
     "output_type": "execute_result"
    }
   ],
   "source": [
    "## Write your code here\n",
    "data_mm = data\n",
    "cols = data_mm.columns.tolist()\n",
    "\n",
    "for col in cols:\n",
    "    data_mm[col] = data_mm[col].apply(lambda x: (x-data_mm[col].min())/(data_mm[col].max()-data_mm[col].min()))\n",
    "\n",
    "data_mm"
   ],
   "execution_count": 27
  },
  {
   "cell_type": "markdown",
   "metadata": {},
   "source": [
    "##### Task 6: Apply Z-score Normalization to `ConvertedCompYearly`.\n",
    "\n",
    "Z-score normalization standardizes values by converting them to a distribution with a mean of 0 and a standard deviation of 1. This method is helpful for datasets with a Gaussian (normal) distribution. Here, you’ll calculate Z-scores for the ConvertedCompYearly column, saving the results in a new column ConvertedCompYearly_Zscore.\n"
   ]
  },
  {
   "cell_type": "code",
   "metadata": {
    "ExecuteTime": {
     "end_time": "2024-12-11T21:16:51.973548900Z",
     "start_time": "2024-12-11T21:15:56.424025400Z"
    }
   },
   "outputs": [
    {
     "data": {
      "text/plain": "       CompTotal  ConvertedCompYearly\n72     -0.003911            -0.897824\n73     -0.003911            -0.897824\n74     -0.003911            -0.897824\n75     -0.003911            -0.897824\n76     -0.003911            -0.897824\n...          ...                  ...\n65432  -0.003911             0.606374\n65433  -0.003911             0.606374\n65434  -0.003911             0.606374\n65435  -0.003911             0.606374\n65436  -0.003911             0.606374\n\n[65365 rows x 2 columns]",
      "text/html": "<div>\n<style scoped>\n    .dataframe tbody tr th:only-of-type {\n        vertical-align: middle;\n    }\n\n    .dataframe tbody tr th {\n        vertical-align: top;\n    }\n\n    .dataframe thead th {\n        text-align: right;\n    }\n</style>\n<table border=\"1\" class=\"dataframe\">\n  <thead>\n    <tr style=\"text-align: right;\">\n      <th></th>\n      <th>CompTotal</th>\n      <th>ConvertedCompYearly</th>\n    </tr>\n  </thead>\n  <tbody>\n    <tr>\n      <th>72</th>\n      <td>-0.003911</td>\n      <td>-0.897824</td>\n    </tr>\n    <tr>\n      <th>73</th>\n      <td>-0.003911</td>\n      <td>-0.897824</td>\n    </tr>\n    <tr>\n      <th>74</th>\n      <td>-0.003911</td>\n      <td>-0.897824</td>\n    </tr>\n    <tr>\n      <th>75</th>\n      <td>-0.003911</td>\n      <td>-0.897824</td>\n    </tr>\n    <tr>\n      <th>76</th>\n      <td>-0.003911</td>\n      <td>-0.897824</td>\n    </tr>\n    <tr>\n      <th>...</th>\n      <td>...</td>\n      <td>...</td>\n    </tr>\n    <tr>\n      <th>65432</th>\n      <td>-0.003911</td>\n      <td>0.606374</td>\n    </tr>\n    <tr>\n      <th>65433</th>\n      <td>-0.003911</td>\n      <td>0.606374</td>\n    </tr>\n    <tr>\n      <th>65434</th>\n      <td>-0.003911</td>\n      <td>0.606374</td>\n    </tr>\n    <tr>\n      <th>65435</th>\n      <td>-0.003911</td>\n      <td>0.606374</td>\n    </tr>\n    <tr>\n      <th>65436</th>\n      <td>-0.003911</td>\n      <td>0.606374</td>\n    </tr>\n  </tbody>\n</table>\n<p>65365 rows × 2 columns</p>\n</div>"
     },
     "execution_count": 28,
     "metadata": {},
     "output_type": "execute_result"
    }
   ],
   "source": [
    "## Write your code here\n",
    "data_zs = data\n",
    "cols = data_zs.columns.tolist()\n",
    "\n",
    "for col in cols:\n",
    "    data_zs[col] = data_zs[col].apply(lambda x: (x-data_zs[col].mean())/data_zs[col].std())\n",
    "\n",
    "data_zs"
   ],
   "execution_count": 28
  },
  {
   "cell_type": "code",
   "outputs": [
    {
     "data": {
      "text/plain": "          CompTotal  ConvertedCompYearly\ncount  6.536500e+04         6.536500e+04\nmean  -2.065373e-18        -1.391409e-16\nstd    1.000000e+00         1.000000e+00\nmin   -3.911356e-03        -9.489221e-01\n25%   -3.911356e-03        -5.826579e-01\n50%   -3.911356e-03        -1.113710e-01\n75%   -3.911356e-03         6.063743e-01\nmax    2.556619e+02         1.125165e+02",
      "text/html": "<div>\n<style scoped>\n    .dataframe tbody tr th:only-of-type {\n        vertical-align: middle;\n    }\n\n    .dataframe tbody tr th {\n        vertical-align: top;\n    }\n\n    .dataframe thead th {\n        text-align: right;\n    }\n</style>\n<table border=\"1\" class=\"dataframe\">\n  <thead>\n    <tr style=\"text-align: right;\">\n      <th></th>\n      <th>CompTotal</th>\n      <th>ConvertedCompYearly</th>\n    </tr>\n  </thead>\n  <tbody>\n    <tr>\n      <th>count</th>\n      <td>6.536500e+04</td>\n      <td>6.536500e+04</td>\n    </tr>\n    <tr>\n      <th>mean</th>\n      <td>-2.065373e-18</td>\n      <td>-1.391409e-16</td>\n    </tr>\n    <tr>\n      <th>std</th>\n      <td>1.000000e+00</td>\n      <td>1.000000e+00</td>\n    </tr>\n    <tr>\n      <th>min</th>\n      <td>-3.911356e-03</td>\n      <td>-9.489221e-01</td>\n    </tr>\n    <tr>\n      <th>25%</th>\n      <td>-3.911356e-03</td>\n      <td>-5.826579e-01</td>\n    </tr>\n    <tr>\n      <th>50%</th>\n      <td>-3.911356e-03</td>\n      <td>-1.113710e-01</td>\n    </tr>\n    <tr>\n      <th>75%</th>\n      <td>-3.911356e-03</td>\n      <td>6.063743e-01</td>\n    </tr>\n    <tr>\n      <th>max</th>\n      <td>2.556619e+02</td>\n      <td>1.125165e+02</td>\n    </tr>\n  </tbody>\n</table>\n</div>"
     },
     "execution_count": 36,
     "metadata": {},
     "output_type": "execute_result"
    }
   ],
   "source": [
    "data_zs.describe()"
   ],
   "metadata": {
    "collapsed": false,
    "ExecuteTime": {
     "end_time": "2024-12-11T21:19:22.595751800Z",
     "start_time": "2024-12-11T21:19:22.582985900Z"
    }
   },
   "execution_count": 36
  },
  {
   "cell_type": "markdown",
   "metadata": {},
   "source": [
    "### Section 4: Visualization of Normalized Data\n",
    "##### Task 7: Visualize the distribution of `ConvertedCompYearly`, `ConvertedCompYearly_Normalized`, and `ConvertedCompYearly_Zscore`\n",
    "\n",
    "Visualization helps you understand how normalization changes the data distribution. In this task, create histograms for the original ConvertedCompYearly, as well as its normalized versions (ConvertedCompYearly_MinMax and ConvertedCompYearly_Zscore). This will help you compare how each normalization technique affects the data range and distribution.\n"
   ]
  },
  {
   "cell_type": "code",
   "metadata": {
    "ExecuteTime": {
     "end_time": "2024-12-11T21:21:53.076481400Z",
     "start_time": "2024-12-11T21:21:53.072983Z"
    }
   },
   "outputs": [],
   "source": [
    "## Write your code here\n"
   ],
   "execution_count": 40
  },
  {
   "cell_type": "markdown",
   "metadata": {},
   "source": [
    "### Summary\n"
   ]
  },
  {
   "cell_type": "markdown",
   "metadata": {},
   "source": [
    "In this lab, you practiced essential normalization techniques, including:\n",
    "\n",
    "- Identifying and handling duplicate rows.\n",
    "\n",
    "- Checking for and imputing missing values.\n",
    "\n",
    "- Applying Min-Max scaling and Z-score normalization to compensation data.\n",
    "\n",
    "- Visualizing the impact of normalization on data distribution.\n"
   ]
  },
  {
   "cell_type": "markdown",
   "metadata": {},
   "source": [
    "Copyright © IBM Corporation. All rights reserved.\n"
   ]
  }
 ],
 "metadata": {
  "kernelspec": {
   "display_name": "Python 3 (ipykernel)",
   "language": "python",
   "name": "python3"
  },
  "language_info": {
   "codemirror_mode": {
    "name": "ipython",
    "version": 3
   },
   "file_extension": ".py",
   "mimetype": "text/x-python",
   "name": "python",
   "nbconvert_exporter": "python",
   "pygments_lexer": "ipython3",
   "version": "3.11.9"
  },
  "prev_pub_hash": "8ea79665018086dcc884035be84cc60bcd56e50806f70468c25908d88dd09d99"
 },
 "nbformat": 4,
 "nbformat_minor": 4
}
